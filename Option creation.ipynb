{
 "cells": [
  {
   "cell_type": "code",
   "execution_count": 161,
   "metadata": {},
   "outputs": [],
   "source": [
    "class Option:\n",
    "    def __init__(self, typ: str, strike: float, maturity: float, price: float, rate = 0):\n",
    "        assert typ in ['C', 'P'], 'Must enter C or P.'\n",
    "        self.type = typ\n",
    "        self.strike = strike\n",
    "        self.maturity = maturity\n",
    "        self.rate = rate\n",
    "        self.price = price\n",
    "    \n",
    "    def _get_payoff_function(self):\n",
    "        if self.type == 'C':\n",
    "            def func(spot):\n",
    "                return max(spot - self.strike, 0)\n",
    "            return func\n",
    "        else:\n",
    "            def func(spot):\n",
    "                return max(self.strike - spot, 0)\n",
    "            return func\n",
    "        \n",
    "        \n",
    "def create_synthetic(call: Option, put: Option, long_or_short: str):\n",
    "        assert call.type == 'C', 'First argument not a call.'\n",
    "        assert put.type == 'P', 'Second argument not a put.'\n",
    "        assert call.strike == put.strike, 'Strikes must be the same.'\n",
    "        assert long_or_short in ['long', 'short'], 'Must be long or short'\n",
    "\n",
    "        def func(x):\n",
    "            if long_or_short == 'long':\n",
    "                return call._get_payoff_function()(x) - put._get_payoff_function()(x)\n",
    "            else:\n",
    "                return -call._get_payoff_function()(x) + put._get_payoff_function()(x)\n",
    "\n",
    "        price = call.price - put.price\n",
    "        long_or_short_at = call.strike\n",
    "\n",
    "        if long_or_short == 'long':\n",
    "            return func, long_or_short_at, price\n",
    "        else:\n",
    "            return func, long_or_short_at, -price\n",
    "        \n",
    "        \n",
    "def find_synthetic_arbitrage(call: Option, put: Option, spot: float):\n",
    "    assert call.strike == put.strike\n",
    "    \n",
    "    synthetic_long_pnl = (spot - call.strike) - call.price + put.price\n",
    "    synthetic_short_pnl = call.strike - spot - put.price + call.price\n",
    "    \n",
    "    if synthetic_long_pnl > 0:\n",
    "        print(f'Buy C{call.strike} at {call.price} and sell P{put.strike} at {put.price}',\n",
    "              ' for a riskless profit of {synthetic_long_pnl}.')\n",
    "    elif synthetic_short_pnl > 0: \n",
    "        print(f'Buy P{put.strike} at {put.price} and sell C{call.strike} at {call.price}',\n",
    "              ' for a riskless profit of {synthetic_short_pnl}')"
   ]
  },
  {
   "cell_type": "code",
   "execution_count": 155,
   "metadata": {},
   "outputs": [],
   "source": [
    "C10 = Option('C', 10, 1, 5)"
   ]
  },
  {
   "cell_type": "code",
   "execution_count": 157,
   "metadata": {},
   "outputs": [],
   "source": [
    "P10 = Option('P', 10, 1, 3)"
   ]
  },
  {
   "cell_type": "code",
   "execution_count": 162,
   "metadata": {},
   "outputs": [
    {
     "name": "stdout",
     "output_type": "stream",
     "text": [
      "Buy C10 at 5 and sell P10 at 3  for a riskless profit of {synthetic_long_pnl}.\n"
     ]
    }
   ],
   "source": [
    "find_synthetic_arbitrage(C10, P10, 13)"
   ]
  },
  {
   "cell_type": "code",
   "execution_count": null,
   "metadata": {},
   "outputs": [],
   "source": []
  }
 ],
 "metadata": {
  "kernelspec": {
   "display_name": "Python 3",
   "language": "python",
   "name": "python3"
  },
  "language_info": {
   "codemirror_mode": {
    "name": "ipython",
    "version": 3
   },
   "file_extension": ".py",
   "mimetype": "text/x-python",
   "name": "python",
   "nbconvert_exporter": "python",
   "pygments_lexer": "ipython3",
   "version": "3.7.4"
  }
 },
 "nbformat": 4,
 "nbformat_minor": 2
}
