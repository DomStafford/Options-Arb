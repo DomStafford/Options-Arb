{
 "cells": [
  {
   "cell_type": "code",
   "execution_count": 1,
   "metadata": {},
   "outputs": [],
   "source": [
    "import ipysheet\n",
    "import pandas as pd"
   ]
  },
  {
   "cell_type": "code",
   "execution_count": 9,
   "metadata": {},
   "outputs": [
    {
     "data": {
      "application/vnd.jupyter.widget-view+json": {
       "model_id": "7a989bde8e414e8ab5a6e192fcefeae1",
       "version_major": 2,
       "version_minor": 0
      },
      "text/plain": [
       "Sheet(cells=(Cell(column_end=0, column_start=0, row_end=0, row_start=0, type='text', value='C'), Cell(column_e…"
      ]
     },
     "metadata": {},
     "output_type": "display_data"
    }
   ],
   "source": [
    "options_sheet = ipysheet.sheet(rows=10, columns=3, column_headers=False)\n",
    "cell1 = ipysheet.cell(0, 0, 'C')\n",
    "cell2 = ipysheet.cell(0, 1, 'K')\n",
    "cell2 = ipysheet.cell(0, 2, 'P')\n",
    "for row in range(1,options_sheet.rows):\n",
    "    for col in range(0,options_sheet.columns):\n",
    "        ipysheet.cell(row,col,value=0.0,numeric_format='0.00')\n",
    "options_sheet"
   ]
  },
  {
   "cell_type": "code",
   "execution_count": 25,
   "metadata": {},
   "outputs": [],
   "source": [
    "S = 12"
   ]
  },
  {
   "cell_type": "code",
   "execution_count": 26,
   "metadata": {},
   "outputs": [],
   "source": [
    "options_df = ipysheet.to_dataframe(options_sheet)\n",
    "options_df.columns = options_df.iloc[0]\n",
    "options_df = options_df[1:]\n",
    "options_df['C'] = pd.to_numeric(options_df['C'])\n",
    "options_df['K'] = pd.to_numeric(options_df['K'])\n",
    "options_df['P'] = pd.to_numeric(options_df['P'])\n",
    "options_df = options_df[options_df.K!=0]"
   ]
  },
  {
   "cell_type": "code",
   "execution_count": 27,
   "metadata": {},
   "outputs": [
    {
     "data": {
      "text/html": [
       "<div>\n",
       "<style scoped>\n",
       "    .dataframe tbody tr th:only-of-type {\n",
       "        vertical-align: middle;\n",
       "    }\n",
       "\n",
       "    .dataframe tbody tr th {\n",
       "        vertical-align: top;\n",
       "    }\n",
       "\n",
       "    .dataframe thead th {\n",
       "        text-align: right;\n",
       "    }\n",
       "</style>\n",
       "<table border=\"1\" class=\"dataframe\">\n",
       "  <thead>\n",
       "    <tr style=\"text-align: right;\">\n",
       "      <th></th>\n",
       "      <th>C</th>\n",
       "      <th>K</th>\n",
       "      <th>P</th>\n",
       "    </tr>\n",
       "  </thead>\n",
       "  <tbody>\n",
       "    <tr>\n",
       "      <td>1</td>\n",
       "      <td>3.9</td>\n",
       "      <td>10.0</td>\n",
       "      <td>1.9</td>\n",
       "    </tr>\n",
       "    <tr>\n",
       "      <td>2</td>\n",
       "      <td>3.5</td>\n",
       "      <td>12.0</td>\n",
       "      <td>3.5</td>\n",
       "    </tr>\n",
       "    <tr>\n",
       "      <td>3</td>\n",
       "      <td>1.9</td>\n",
       "      <td>14.0</td>\n",
       "      <td>3.9</td>\n",
       "    </tr>\n",
       "    <tr>\n",
       "      <td>4</td>\n",
       "      <td>1.2</td>\n",
       "      <td>16.0</td>\n",
       "      <td>5.0</td>\n",
       "    </tr>\n",
       "  </tbody>\n",
       "</table>\n",
       "</div>"
      ],
      "text/plain": [
       "0    C     K    P\n",
       "1  3.9  10.0  1.9\n",
       "2  3.5  12.0  3.5\n",
       "3  1.9  14.0  3.9\n",
       "4  1.2  16.0  5.0"
      ]
     },
     "execution_count": 27,
     "metadata": {},
     "output_type": "execute_result"
    }
   ],
   "source": [
    "options_df"
   ]
  },
  {
   "cell_type": "code",
   "execution_count": 28,
   "metadata": {},
   "outputs": [],
   "source": [
    "from OptionCreation import *"
   ]
  },
  {
   "cell_type": "code",
   "execution_count": 29,
   "metadata": {},
   "outputs": [
    {
     "name": "stdout",
     "output_type": "stream",
     "text": [
      "Buy P16.0 at 5.0 and sell C16.0 at 1.2  for a riskless profit of 0.19999999999999996\n"
     ]
    }
   ],
   "source": [
    "for _,row in options_df.iterrows():\n",
    "    call = Option(typ='C', strike=row['K'], price=row['C'], maturity=1)\n",
    "    put = Option(typ='P', strike=row['K'], price=row['P'], maturity=1)\n",
    "    find_synthetic_arbitrage(call, put, spot=S)"
   ]
  },
  {
   "cell_type": "code",
   "execution_count": null,
   "metadata": {},
   "outputs": [],
   "source": []
  }
 ],
 "metadata": {
  "kernelspec": {
   "display_name": "Python 3",
   "language": "python",
   "name": "python3"
  },
  "language_info": {
   "codemirror_mode": {
    "name": "ipython",
    "version": 3
   },
   "file_extension": ".py",
   "mimetype": "text/x-python",
   "name": "python",
   "nbconvert_exporter": "python",
   "pygments_lexer": "ipython3",
   "version": "3.7.4"
  },
  "widgets": {
   "application/vnd.jupyter.widget-state+json": {
    "state": {
     "05d43217d9944f5a99326282ded3b88b": {
      "model_module": "ipysheet",
      "model_module_version": "~0.4.3",
      "model_name": "CellRangeModel",
      "state": {
       "_view_module": null,
       "_view_module_version": "",
       "numeric_format": "0.00",
       "type": "numeric",
       "value": 10
      }
     },
     "0995edf219724381abaab6420aa00344": {
      "model_module": "ipysheet",
      "model_module_version": "~0.4.3",
      "model_name": "CellRangeModel",
      "state": {
       "_view_module": null,
       "_view_module_version": "",
       "numeric_format": "0.00",
       "row_end": 2,
       "row_start": 2,
       "type": "numeric",
       "value": 12
      }
     },
     "0b6ac3dfe03a40b9992b5a7c36ae1f6c": {
      "model_module": "ipysheet",
      "model_module_version": "~0.4.3",
      "model_name": "CellRangeModel",
      "state": {
       "_view_module": null,
       "_view_module_version": "",
       "column_end": 2,
       "column_start": 2,
       "numeric_format": "0.00",
       "row_end": 7,
       "row_start": 7,
       "type": "numeric",
       "value": 0
      }
     },
     "105b190e37b74945b3869bfdbd1e3e2d": {
      "model_module": "ipysheet",
      "model_module_version": "~0.4.3",
      "model_name": "CellRangeModel",
      "state": {
       "_view_module": null,
       "_view_module_version": "",
       "numeric_format": "0.00",
       "row_end": 8,
       "row_start": 8,
       "type": "numeric",
       "value": 0
      }
     },
     "13501df472464af7bf16886e5d9ddb48": {
      "model_module": "ipysheet",
      "model_module_version": "~0.4.3",
      "model_name": "CellRangeModel",
      "state": {
       "_view_module": null,
       "_view_module_version": "",
       "column_end": 2,
       "column_start": 2,
       "numeric_format": "0.00",
       "row_end": 8,
       "row_start": 8,
       "type": "numeric",
       "value": 0
      }
     },
     "19714cf8a7a54824a8679a07d11f11e4": {
      "model_module": "ipysheet",
      "model_module_version": "~0.4.3",
      "model_name": "CellRangeModel",
      "state": {
       "_view_module": null,
       "_view_module_version": "",
       "column_end": 0,
       "column_start": 0,
       "numeric_format": "0.00",
       "row_end": 2,
       "row_start": 2,
       "type": "numeric",
       "value": 3.5
      }
     },
     "1bcd5f7b2ec04d489f0e8e39e8546440": {
      "model_module": "ipysheet",
      "model_module_version": "~0.4.3",
      "model_name": "CellRangeModel",
      "state": {
       "_view_module": null,
       "_view_module_version": "",
       "numeric_format": "0.00",
       "row_end": 2,
       "row_start": 2,
       "type": "numeric",
       "value": 12
      }
     },
     "23300cea1aa24853bec9ed0a9b0c1f39": {
      "model_module": "ipysheet",
      "model_module_version": "~0.4.3",
      "model_name": "CellRangeModel",
      "state": {
       "_view_module": null,
       "_view_module_version": "",
       "column_end": 2,
       "column_start": 2,
       "row_end": 0,
       "row_start": 0,
       "type": "text",
       "value": "P"
      }
     },
     "2a6322d4b7374a938a0c5d3321effda5": {
      "model_module": "ipysheet",
      "model_module_version": "~0.4.3",
      "model_name": "CellRangeModel",
      "state": {
       "_view_module": null,
       "_view_module_version": "",
       "numeric_format": "0.00",
       "row_end": 7,
       "row_start": 7,
       "type": "numeric",
       "value": 0
      }
     },
     "2aecfd31640d41d9a79cb2bde920570e": {
      "model_module": "ipysheet",
      "model_module_version": "~0.4.3",
      "model_name": "CellRangeModel",
      "state": {
       "_view_module": null,
       "_view_module_version": "",
       "numeric_format": "0.00",
       "row_end": 7,
       "row_start": 7,
       "type": "numeric",
       "value": 0
      }
     },
     "2c977c84780349a28694acb4b6529edf": {
      "model_module": "ipysheet",
      "model_module_version": "~0.4.3",
      "model_name": "CellRangeModel",
      "state": {
       "_view_module": null,
       "_view_module_version": "",
       "column_end": 0,
       "column_start": 0,
       "numeric_format": "0.00",
       "row_end": 7,
       "row_start": 7,
       "type": "numeric",
       "value": 0
      }
     },
     "2e5807fa40b94e39a717df4cccd656f6": {
      "model_module": "ipysheet",
      "model_module_version": "~0.4.3",
      "model_name": "CellRangeModel",
      "state": {
       "_view_module": null,
       "_view_module_version": "",
       "column_end": 2,
       "column_start": 2,
       "numeric_format": "0.00",
       "row_end": 7,
       "row_start": 7,
       "type": "numeric",
       "value": 0
      }
     },
     "2f9fc308c64b4b3c9015b8b9736ea9b4": {
      "model_module": "ipysheet",
      "model_module_version": "~0.4.3",
      "model_name": "CellRangeModel",
      "state": {
       "_view_module": null,
       "_view_module_version": "",
       "column_end": 2,
       "column_start": 2,
       "numeric_format": "0.00",
       "row_end": 5,
       "row_start": 5,
       "type": "numeric",
       "value": 0
      }
     },
     "32fee569474e4b5fb38a8e9747a9071b": {
      "model_module": "ipysheet",
      "model_module_version": "~0.4.3",
      "model_name": "CellRangeModel",
      "state": {
       "_view_module": null,
       "_view_module_version": "",
       "column_end": 2,
       "column_start": 2,
       "numeric_format": "0.00",
       "row_end": 6,
       "row_start": 6,
       "type": "numeric",
       "value": 0
      }
     },
     "3421dd77075543f0980a5bf17eba9031": {
      "model_module": "ipysheet",
      "model_module_version": "~0.4.3",
      "model_name": "CellRangeModel",
      "state": {
       "_view_module": null,
       "_view_module_version": "",
       "numeric_format": "0.00",
       "type": "numeric",
       "value": 10
      }
     },
     "34adb23a31354009866d97a61ea3ccc1": {
      "model_module": "ipysheet",
      "model_module_version": "~0.4.3",
      "model_name": "CellRangeModel",
      "state": {
       "_view_module": null,
       "_view_module_version": "",
       "column_end": 0,
       "column_start": 0,
       "numeric_format": "0.00",
       "row_end": 2,
       "row_start": 2,
       "type": "numeric",
       "value": 0
      }
     },
     "35a01b3c13ed4a2b8716cf8e0b8c8a82": {
      "model_module": "ipysheet",
      "model_module_version": "~0.4.3",
      "model_name": "CellRangeModel",
      "state": {
       "_view_module": null,
       "_view_module_version": "",
       "column_end": 2,
       "column_start": 2,
       "numeric_format": "0.00",
       "row_end": 2,
       "row_start": 2,
       "type": "numeric",
       "value": 0
      }
     },
     "3cd7c3091680428690d9b5c5b890f3db": {
      "model_module": "ipysheet",
      "model_module_version": "~0.4.3",
      "model_name": "CellRangeModel",
      "state": {
       "_view_module": null,
       "_view_module_version": "",
       "column_end": 2,
       "column_start": 2,
       "numeric_format": "0.00",
       "type": "numeric",
       "value": 1.9
      }
     },
     "3e285eaee0a743a7901db067c07e1a48": {
      "model_module": "ipysheet",
      "model_module_version": "~0.4.3",
      "model_name": "CellRangeModel",
      "state": {
       "_view_module": null,
       "_view_module_version": "",
       "column_end": 2,
       "column_start": 2,
       "numeric_format": "0.00",
       "row_end": 8,
       "row_start": 8,
       "type": "numeric",
       "value": 0
      }
     },
     "40f9d293d50246a3957df2fe45168578": {
      "model_module": "ipysheet",
      "model_module_version": "~0.4.3",
      "model_name": "CellRangeModel",
      "state": {
       "_view_module": null,
       "_view_module_version": "",
       "row_end": 0,
       "row_start": 0,
       "type": "text",
       "value": "K"
      }
     },
     "461e656840394a1983e3954df9b894dc": {
      "model_module": "ipysheet",
      "model_module_version": "~0.4.3",
      "model_name": "CellRangeModel",
      "state": {
       "_view_module": null,
       "_view_module_version": "",
       "column_end": 0,
       "column_start": 0,
       "numeric_format": "0.00",
       "row_end": 3,
       "row_start": 3,
       "type": "numeric",
       "value": 1.9
      }
     },
     "4791cc6845b64bc6ace93c33c24ab0cd": {
      "model_module": "ipysheet",
      "model_module_version": "~0.4.3",
      "model_name": "CellRangeModel",
      "state": {
       "_view_module": null,
       "_view_module_version": "",
       "numeric_format": "0.00",
       "row_end": 3,
       "row_start": 3,
       "type": "numeric",
       "value": 14
      }
     },
     "47c0dd33698746ed98ca9d7e15fbfc53": {
      "model_module": "ipysheet",
      "model_module_version": "~0.4.3",
      "model_name": "CellRangeModel",
      "state": {
       "_view_module": null,
       "_view_module_version": "",
       "column_end": 0,
       "column_start": 0,
       "numeric_format": "0.00",
       "row_end": 7,
       "row_start": 7,
       "type": "numeric",
       "value": 0
      }
     },
     "48b41e60f2554e48aff12389d3e01818": {
      "model_module": "@jupyter-widgets/base",
      "model_module_version": "1.2.0",
      "model_name": "LayoutModel",
      "state": {
       "height": "auto",
       "width": "auto"
      }
     },
     "4aa663cdce89483e8b56706e374d8844": {
      "model_module": "ipysheet",
      "model_module_version": "~0.4.3",
      "model_name": "CellRangeModel",
      "state": {
       "_view_module": null,
       "_view_module_version": "",
       "column_end": 0,
       "column_start": 0,
       "numeric_format": "0.00",
       "row_end": 8,
       "row_start": 8,
       "type": "numeric",
       "value": 0
      }
     },
     "4ab9fe55ca60449c803183ee19aab95d": {
      "model_module": "ipysheet",
      "model_module_version": "~0.4.3",
      "model_name": "CellRangeModel",
      "state": {
       "_view_module": null,
       "_view_module_version": "",
       "column_end": 0,
       "column_start": 0,
       "row_end": 0,
       "row_start": 0,
       "type": "text",
       "value": "C"
      }
     },
     "4cc2033b2f7245959897262dd3ef713b": {
      "model_module": "ipysheet",
      "model_module_version": "~0.4.3",
      "model_name": "CellRangeModel",
      "state": {
       "_view_module": null,
       "_view_module_version": "",
       "numeric_format": "0.00",
       "row_end": 5,
       "row_start": 5,
       "type": "numeric",
       "value": 0
      }
     },
     "5038221a5fae4dfb825bcb161a56b7fe": {
      "model_module": "ipysheet",
      "model_module_version": "~0.4.3",
      "model_name": "CellRangeModel",
      "state": {
       "_view_module": null,
       "_view_module_version": "",
       "numeric_format": "0.00",
       "row_end": 2,
       "row_start": 2,
       "type": "numeric",
       "value": 0
      }
     },
     "51491e5e2e48406eb68b1de8b855f739": {
      "model_module": "ipysheet",
      "model_module_version": "~0.4.3",
      "model_name": "CellRangeModel",
      "state": {
       "_view_module": null,
       "_view_module_version": "",
       "column_end": 0,
       "column_start": 0,
       "numeric_format": "0.00",
       "row_end": 6,
       "row_start": 6,
       "type": "numeric",
       "value": 0
      }
     },
     "52c5f8969a3c4ec4b6c9724d633064b2": {
      "model_module": "ipysheet",
      "model_module_version": "~0.4.3",
      "model_name": "CellRangeModel",
      "state": {
       "_view_module": null,
       "_view_module_version": "",
       "column_end": 2,
       "column_start": 2,
       "numeric_format": "0.00",
       "row_end": 9,
       "row_start": 9,
       "type": "numeric",
       "value": 0
      }
     },
     "5822d05b9d0d49949a94c967ba5d8d80": {
      "model_module": "ipysheet",
      "model_module_version": "~0.4.3",
      "model_name": "CellRangeModel",
      "state": {
       "_view_module": null,
       "_view_module_version": "",
       "column_end": 0,
       "column_start": 0,
       "numeric_format": "0.00",
       "row_end": 9,
       "row_start": 9,
       "type": "numeric",
       "value": 0
      }
     },
     "5d108e603bee453092399f260ab6c596": {
      "model_module": "ipysheet",
      "model_module_version": "~0.4.3",
      "model_name": "CellRangeModel",
      "state": {
       "_view_module": null,
       "_view_module_version": "",
       "column_end": 0,
       "column_start": 0,
       "numeric_format": "0.00",
       "type": "numeric",
       "value": 0
      }
     },
     "67c5a68a2f414f728cd3f0714376c56b": {
      "model_module": "ipysheet",
      "model_module_version": "~0.4.3",
      "model_name": "CellRangeModel",
      "state": {
       "_view_module": null,
       "_view_module_version": "",
       "numeric_format": "0.00",
       "row_end": 3,
       "row_start": 3,
       "type": "numeric",
       "value": 14
      }
     },
     "69408226a8a8423fb1d12da11e8f35d6": {
      "model_module": "ipysheet",
      "model_module_version": "~0.4.3",
      "model_name": "SheetModel",
      "state": {
       "cells": [
        "IPY_MODEL_4ab9fe55ca60449c803183ee19aab95d",
        "IPY_MODEL_40f9d293d50246a3957df2fe45168578",
        "IPY_MODEL_d5ab158826d54f0084bc59091baa1cfb",
        "IPY_MODEL_5d108e603bee453092399f260ab6c596",
        "IPY_MODEL_6bb54346b98947fc8176c8fbdb8cc3de",
        "IPY_MODEL_fce24baa7de5450097d278f0a024ae28",
        "IPY_MODEL_34adb23a31354009866d97a61ea3ccc1",
        "IPY_MODEL_5038221a5fae4dfb825bcb161a56b7fe",
        "IPY_MODEL_35a01b3c13ed4a2b8716cf8e0b8c8a82",
        "IPY_MODEL_b30d2fa3b8cd41e5aa7519886d2ee0b9",
        "IPY_MODEL_e9dab48f877a4a73a8079babb5a64c4d",
        "IPY_MODEL_fe4fadf50859484ca8c4e5b7e4252d84",
        "IPY_MODEL_7a3876e02c9743dc8460d515c2787241",
        "IPY_MODEL_724ea051e9d84a20ab16fe5562b30424",
        "IPY_MODEL_7ddfa3a87e42451ca3f97bfc1823b6d8",
        "IPY_MODEL_8a40334466b34fcbaed429ca704c470b",
        "IPY_MODEL_4cc2033b2f7245959897262dd3ef713b",
        "IPY_MODEL_c59470510e3b4dbe9d2408333077d364",
        "IPY_MODEL_51491e5e2e48406eb68b1de8b855f739",
        "IPY_MODEL_c5d926c87abc4b1a99bbec543f7d9655",
        "IPY_MODEL_7ba8ac126b0449feb190b1798bb2c5e8",
        "IPY_MODEL_d9cc3d17a1574ab88236cc9ca502ec71",
        "IPY_MODEL_2a6322d4b7374a938a0c5d3321effda5",
        "IPY_MODEL_0b6ac3dfe03a40b9992b5a7c36ae1f6c",
        "IPY_MODEL_4aa663cdce89483e8b56706e374d8844",
        "IPY_MODEL_105b190e37b74945b3869bfdbd1e3e2d",
        "IPY_MODEL_13501df472464af7bf16886e5d9ddb48",
        "IPY_MODEL_a31d842c28dd49d683b34fe78a6fe077",
        "IPY_MODEL_f0427c5b9e0848cd9c04c0fdc297bb60",
        "IPY_MODEL_88e9a0a4466d4df4bf8f5d56ec73f6a5"
       ],
       "column_headers": false,
       "columns": 3,
       "layout": "IPY_MODEL_e1135ff3bff54c4e9977d587703fb85d",
       "rows": 10
      }
     },
     "6bb54346b98947fc8176c8fbdb8cc3de": {
      "model_module": "ipysheet",
      "model_module_version": "~0.4.3",
      "model_name": "CellRangeModel",
      "state": {
       "_view_module": null,
       "_view_module_version": "",
       "numeric_format": "0.00",
       "type": "numeric",
       "value": 0
      }
     },
     "6f1513c1f5bc4d699bad2d80917dba4f": {
      "model_module": "ipysheet",
      "model_module_version": "~0.4.3",
      "model_name": "CellRangeModel",
      "state": {
       "_view_module": null,
       "_view_module_version": "",
       "numeric_format": "0.00",
       "row_end": 6,
       "row_start": 6,
       "type": "numeric",
       "value": 0
      }
     },
     "724ea051e9d84a20ab16fe5562b30424": {
      "model_module": "ipysheet",
      "model_module_version": "~0.4.3",
      "model_name": "CellRangeModel",
      "state": {
       "_view_module": null,
       "_view_module_version": "",
       "numeric_format": "0.00",
       "row_end": 4,
       "row_start": 4,
       "type": "numeric",
       "value": 0
      }
     },
     "7461c042dad8452b90f9de394e0179e8": {
      "model_module": "ipysheet",
      "model_module_version": "~0.4.3",
      "model_name": "CellRangeModel",
      "state": {
       "_view_module": null,
       "_view_module_version": "",
       "column_end": 0,
       "column_start": 0,
       "numeric_format": "0.00",
       "type": "numeric",
       "value": 3.9
      }
     },
     "798d0c02ba044ac19adb5c68c362d4ef": {
      "model_module": "ipysheet",
      "model_module_version": "~0.4.3",
      "model_name": "CellRangeModel",
      "state": {
       "_view_module": null,
       "_view_module_version": "",
       "column_end": 2,
       "column_start": 2,
       "row_end": 0,
       "row_start": 0,
       "type": "text",
       "value": "P"
      }
     },
     "7a3876e02c9743dc8460d515c2787241": {
      "model_module": "ipysheet",
      "model_module_version": "~0.4.3",
      "model_name": "CellRangeModel",
      "state": {
       "_view_module": null,
       "_view_module_version": "",
       "column_end": 0,
       "column_start": 0,
       "numeric_format": "0.00",
       "row_end": 4,
       "row_start": 4,
       "type": "numeric",
       "value": 0
      }
     },
     "7a989bde8e414e8ab5a6e192fcefeae1": {
      "model_module": "ipysheet",
      "model_module_version": "~0.4.3",
      "model_name": "SheetModel",
      "state": {
       "cells": [
        "IPY_MODEL_be0830d65d914811aed551a4ef272df5",
        "IPY_MODEL_a94ef3aa920d496b940d4079dc098a3f",
        "IPY_MODEL_798d0c02ba044ac19adb5c68c362d4ef",
        "IPY_MODEL_a7b50cb78a3c4eea81185b3015bd0f77",
        "IPY_MODEL_05d43217d9944f5a99326282ded3b88b",
        "IPY_MODEL_fbc298e7fd994fc5b44476e87baed164",
        "IPY_MODEL_19714cf8a7a54824a8679a07d11f11e4",
        "IPY_MODEL_0995edf219724381abaab6420aa00344",
        "IPY_MODEL_d43bbfc3e0b946f9a57cdd7242aefbd4",
        "IPY_MODEL_a2a057135e374b5ea01a72d9721f361d",
        "IPY_MODEL_67c5a68a2f414f728cd3f0714376c56b",
        "IPY_MODEL_cfeb4bdd13764ab9b3900dd2d1dacee4",
        "IPY_MODEL_db6993974c8547cf83c0fbfa9dd9585f",
        "IPY_MODEL_b8fdddf44de1477893007b6557eda10a",
        "IPY_MODEL_c4b845d954364ff89a4781f073e5018b",
        "IPY_MODEL_ce7294ce03194793903ccc06cdfcc98b",
        "IPY_MODEL_939c86b11be342808896e430d59f7211",
        "IPY_MODEL_2f9fc308c64b4b3c9015b8b9736ea9b4",
        "IPY_MODEL_e5c22c1b1fcc42e8bddb2be9f2ee9f9a",
        "IPY_MODEL_6f1513c1f5bc4d699bad2d80917dba4f",
        "IPY_MODEL_9751f5ee2dad474dbcb60ef8b57221b2",
        "IPY_MODEL_2c977c84780349a28694acb4b6529edf",
        "IPY_MODEL_c552f4647045431f820e54b7a8d8d7a8",
        "IPY_MODEL_7e9b0d07d5c4455dab3ccc8a7506e0ef",
        "IPY_MODEL_fdf6101303d748fe86556a1f7b6be5ef",
        "IPY_MODEL_a640d9944b4a48b8abb0587a6f1d064a",
        "IPY_MODEL_a750b7b9d9634cfc942428bd6cfdda69",
        "IPY_MODEL_eee361b21eab4274898dd27e7d7a897c",
        "IPY_MODEL_7e22f8122e9f4d3881c52c8e58b61562",
        "IPY_MODEL_eb7fad26ba604f208867845e4b475ebe"
       ],
       "column_headers": false,
       "columns": 3,
       "layout": "IPY_MODEL_a8a4021071d1419d8d71752443ea0be7",
       "rows": 10
      }
     },
     "7ba8ac126b0449feb190b1798bb2c5e8": {
      "model_module": "ipysheet",
      "model_module_version": "~0.4.3",
      "model_name": "CellRangeModel",
      "state": {
       "_view_module": null,
       "_view_module_version": "",
       "column_end": 2,
       "column_start": 2,
       "numeric_format": "0.00",
       "row_end": 6,
       "row_start": 6,
       "type": "numeric",
       "value": 0
      }
     },
     "7cc2804e2d6c4711987a564ddd43cd9e": {
      "model_module": "ipysheet",
      "model_module_version": "~0.4.3",
      "model_name": "CellRangeModel",
      "state": {
       "_view_module": null,
       "_view_module_version": "",
       "column_end": 0,
       "column_start": 0,
       "numeric_format": "0.00",
       "row_end": 8,
       "row_start": 8,
       "type": "numeric",
       "value": 0
      }
     },
     "7ddfa3a87e42451ca3f97bfc1823b6d8": {
      "model_module": "ipysheet",
      "model_module_version": "~0.4.3",
      "model_name": "CellRangeModel",
      "state": {
       "_view_module": null,
       "_view_module_version": "",
       "column_end": 2,
       "column_start": 2,
       "numeric_format": "0.00",
       "row_end": 4,
       "row_start": 4,
       "type": "numeric",
       "value": 0
      }
     },
     "7e22f8122e9f4d3881c52c8e58b61562": {
      "model_module": "ipysheet",
      "model_module_version": "~0.4.3",
      "model_name": "CellRangeModel",
      "state": {
       "_view_module": null,
       "_view_module_version": "",
       "numeric_format": "0.00",
       "row_end": 9,
       "row_start": 9,
       "type": "numeric",
       "value": 0
      }
     },
     "7e9b0d07d5c4455dab3ccc8a7506e0ef": {
      "model_module": "ipysheet",
      "model_module_version": "~0.4.3",
      "model_name": "CellRangeModel",
      "state": {
       "_view_module": null,
       "_view_module_version": "",
       "column_end": 2,
       "column_start": 2,
       "numeric_format": "0.00",
       "row_end": 7,
       "row_start": 7,
       "type": "numeric",
       "value": 0
      }
     },
     "88e9a0a4466d4df4bf8f5d56ec73f6a5": {
      "model_module": "ipysheet",
      "model_module_version": "~0.4.3",
      "model_name": "CellRangeModel",
      "state": {
       "_view_module": null,
       "_view_module_version": "",
       "column_end": 2,
       "column_start": 2,
       "numeric_format": "0.00",
       "row_end": 9,
       "row_start": 9,
       "type": "numeric",
       "value": 0
      }
     },
     "8a40334466b34fcbaed429ca704c470b": {
      "model_module": "ipysheet",
      "model_module_version": "~0.4.3",
      "model_name": "CellRangeModel",
      "state": {
       "_view_module": null,
       "_view_module_version": "",
       "column_end": 0,
       "column_start": 0,
       "numeric_format": "0.00",
       "row_end": 5,
       "row_start": 5,
       "type": "numeric",
       "value": 0
      }
     },
     "939c86b11be342808896e430d59f7211": {
      "model_module": "ipysheet",
      "model_module_version": "~0.4.3",
      "model_name": "CellRangeModel",
      "state": {
       "_view_module": null,
       "_view_module_version": "",
       "numeric_format": "0.00",
       "row_end": 5,
       "row_start": 5,
       "type": "numeric",
       "value": 0
      }
     },
     "95c60c4b0253439986de1d413ff37737": {
      "model_module": "ipysheet",
      "model_module_version": "~0.4.3",
      "model_name": "CellRangeModel",
      "state": {
       "_view_module": null,
       "_view_module_version": "",
       "column_end": 2,
       "column_start": 2,
       "numeric_format": "0.00",
       "row_end": 5,
       "row_start": 5,
       "type": "numeric",
       "value": 0
      }
     },
     "9751f5ee2dad474dbcb60ef8b57221b2": {
      "model_module": "ipysheet",
      "model_module_version": "~0.4.3",
      "model_name": "CellRangeModel",
      "state": {
       "_view_module": null,
       "_view_module_version": "",
       "column_end": 2,
       "column_start": 2,
       "numeric_format": "0.00",
       "row_end": 6,
       "row_start": 6,
       "type": "numeric",
       "value": 0
      }
     },
     "a2a057135e374b5ea01a72d9721f361d": {
      "model_module": "ipysheet",
      "model_module_version": "~0.4.3",
      "model_name": "CellRangeModel",
      "state": {
       "_view_module": null,
       "_view_module_version": "",
       "column_end": 0,
       "column_start": 0,
       "numeric_format": "0.00",
       "row_end": 3,
       "row_start": 3,
       "type": "numeric",
       "value": 1.9
      }
     },
     "a31d842c28dd49d683b34fe78a6fe077": {
      "model_module": "ipysheet",
      "model_module_version": "~0.4.3",
      "model_name": "CellRangeModel",
      "state": {
       "_view_module": null,
       "_view_module_version": "",
       "column_end": 0,
       "column_start": 0,
       "numeric_format": "0.00",
       "row_end": 9,
       "row_start": 9,
       "type": "numeric",
       "value": 0
      }
     },
     "a640d9944b4a48b8abb0587a6f1d064a": {
      "model_module": "ipysheet",
      "model_module_version": "~0.4.3",
      "model_name": "CellRangeModel",
      "state": {
       "_view_module": null,
       "_view_module_version": "",
       "numeric_format": "0.00",
       "row_end": 8,
       "row_start": 8,
       "type": "numeric",
       "value": 0
      }
     },
     "a73758292a7247869acb15a3fb59cad6": {
      "model_module": "ipysheet",
      "model_module_version": "~0.4.3",
      "model_name": "CellRangeModel",
      "state": {
       "_view_module": null,
       "_view_module_version": "",
       "column_end": 2,
       "column_start": 2,
       "numeric_format": "0.00",
       "row_end": 4,
       "row_start": 4,
       "type": "numeric",
       "value": 5
      }
     },
     "a750b7b9d9634cfc942428bd6cfdda69": {
      "model_module": "ipysheet",
      "model_module_version": "~0.4.3",
      "model_name": "CellRangeModel",
      "state": {
       "_view_module": null,
       "_view_module_version": "",
       "column_end": 2,
       "column_start": 2,
       "numeric_format": "0.00",
       "row_end": 8,
       "row_start": 8,
       "type": "numeric",
       "value": 0
      }
     },
     "a7b50cb78a3c4eea81185b3015bd0f77": {
      "model_module": "ipysheet",
      "model_module_version": "~0.4.3",
      "model_name": "CellRangeModel",
      "state": {
       "_view_module": null,
       "_view_module_version": "",
       "column_end": 0,
       "column_start": 0,
       "numeric_format": "0.00",
       "type": "numeric",
       "value": 3.9
      }
     },
     "a8a4021071d1419d8d71752443ea0be7": {
      "model_module": "@jupyter-widgets/base",
      "model_module_version": "1.2.0",
      "model_name": "LayoutModel",
      "state": {
       "height": "auto",
       "width": "auto"
      }
     },
     "a94ef3aa920d496b940d4079dc098a3f": {
      "model_module": "ipysheet",
      "model_module_version": "~0.4.3",
      "model_name": "CellRangeModel",
      "state": {
       "_view_module": null,
       "_view_module_version": "",
       "row_end": 0,
       "row_start": 0,
       "type": "text",
       "value": "K"
      }
     },
     "aaec74e6958040a585686cd3938fe6d3": {
      "model_module": "ipysheet",
      "model_module_version": "~0.4.3",
      "model_name": "CellRangeModel",
      "state": {
       "_view_module": null,
       "_view_module_version": "",
       "numeric_format": "0.00",
       "row_end": 5,
       "row_start": 5,
       "type": "numeric",
       "value": 0
      }
     },
     "ae96acadb2cf460fa8a3d2fbe4a26d88": {
      "model_module": "ipysheet",
      "model_module_version": "~0.4.3",
      "model_name": "SheetModel",
      "state": {
       "cells": [
        "IPY_MODEL_c3d1d3741c964befbc05773a04efc5c1",
        "IPY_MODEL_b845d57a709e4e0690f5621fe7d16921",
        "IPY_MODEL_23300cea1aa24853bec9ed0a9b0c1f39",
        "IPY_MODEL_7461c042dad8452b90f9de394e0179e8",
        "IPY_MODEL_3421dd77075543f0980a5bf17eba9031",
        "IPY_MODEL_3cd7c3091680428690d9b5c5b890f3db",
        "IPY_MODEL_ce338738ed5c4d6daea472ff6ed559d7",
        "IPY_MODEL_1bcd5f7b2ec04d489f0e8e39e8546440",
        "IPY_MODEL_b7e0a128732b4215abb2a368d2a30ec0",
        "IPY_MODEL_461e656840394a1983e3954df9b894dc",
        "IPY_MODEL_4791cc6845b64bc6ace93c33c24ab0cd",
        "IPY_MODEL_f16d8b91f71745af94ad2f7eaa200c86",
        "IPY_MODEL_d2a9c12a59dd433f952f3f951294effb",
        "IPY_MODEL_e6e11f91550c41d996b0f17025e836ac",
        "IPY_MODEL_a73758292a7247869acb15a3fb59cad6",
        "IPY_MODEL_d71c41395eff4e99b68f466549e89923",
        "IPY_MODEL_aaec74e6958040a585686cd3938fe6d3",
        "IPY_MODEL_95c60c4b0253439986de1d413ff37737",
        "IPY_MODEL_cedaaec598fa41f38d2efdfc2029fab8",
        "IPY_MODEL_b2d2e65913004f9db3d600b793776347",
        "IPY_MODEL_32fee569474e4b5fb38a8e9747a9071b",
        "IPY_MODEL_47c0dd33698746ed98ca9d7e15fbfc53",
        "IPY_MODEL_2aecfd31640d41d9a79cb2bde920570e",
        "IPY_MODEL_2e5807fa40b94e39a717df4cccd656f6",
        "IPY_MODEL_7cc2804e2d6c4711987a564ddd43cd9e",
        "IPY_MODEL_dd8a344d25e84a47a062e413d5491570",
        "IPY_MODEL_3e285eaee0a743a7901db067c07e1a48",
        "IPY_MODEL_5822d05b9d0d49949a94c967ba5d8d80",
        "IPY_MODEL_b960578cfa5b4a1a84022c54bcfee140",
        "IPY_MODEL_52c5f8969a3c4ec4b6c9724d633064b2"
       ],
       "column_headers": false,
       "columns": 3,
       "layout": "IPY_MODEL_48b41e60f2554e48aff12389d3e01818",
       "rows": 10
      }
     },
     "b2d2e65913004f9db3d600b793776347": {
      "model_module": "ipysheet",
      "model_module_version": "~0.4.3",
      "model_name": "CellRangeModel",
      "state": {
       "_view_module": null,
       "_view_module_version": "",
       "numeric_format": "0.00",
       "row_end": 6,
       "row_start": 6,
       "type": "numeric",
       "value": 0
      }
     },
     "b30d2fa3b8cd41e5aa7519886d2ee0b9": {
      "model_module": "ipysheet",
      "model_module_version": "~0.4.3",
      "model_name": "CellRangeModel",
      "state": {
       "_view_module": null,
       "_view_module_version": "",
       "column_end": 0,
       "column_start": 0,
       "numeric_format": "0.00",
       "row_end": 3,
       "row_start": 3,
       "type": "numeric",
       "value": 0
      }
     },
     "b7e0a128732b4215abb2a368d2a30ec0": {
      "model_module": "ipysheet",
      "model_module_version": "~0.4.3",
      "model_name": "CellRangeModel",
      "state": {
       "_view_module": null,
       "_view_module_version": "",
       "column_end": 2,
       "column_start": 2,
       "numeric_format": "0.00",
       "row_end": 2,
       "row_start": 2,
       "type": "numeric",
       "value": 3.5
      }
     },
     "b845d57a709e4e0690f5621fe7d16921": {
      "model_module": "ipysheet",
      "model_module_version": "~0.4.3",
      "model_name": "CellRangeModel",
      "state": {
       "_view_module": null,
       "_view_module_version": "",
       "row_end": 0,
       "row_start": 0,
       "type": "text",
       "value": "K"
      }
     },
     "b8fdddf44de1477893007b6557eda10a": {
      "model_module": "ipysheet",
      "model_module_version": "~0.4.3",
      "model_name": "CellRangeModel",
      "state": {
       "_view_module": null,
       "_view_module_version": "",
       "numeric_format": "0.00",
       "row_end": 4,
       "row_start": 4,
       "type": "numeric",
       "value": 16
      }
     },
     "b960578cfa5b4a1a84022c54bcfee140": {
      "model_module": "ipysheet",
      "model_module_version": "~0.4.3",
      "model_name": "CellRangeModel",
      "state": {
       "_view_module": null,
       "_view_module_version": "",
       "numeric_format": "0.00",
       "row_end": 9,
       "row_start": 9,
       "type": "numeric",
       "value": 0
      }
     },
     "be0830d65d914811aed551a4ef272df5": {
      "model_module": "ipysheet",
      "model_module_version": "~0.4.3",
      "model_name": "CellRangeModel",
      "state": {
       "_view_module": null,
       "_view_module_version": "",
       "column_end": 0,
       "column_start": 0,
       "row_end": 0,
       "row_start": 0,
       "type": "text",
       "value": "C"
      }
     },
     "c3d1d3741c964befbc05773a04efc5c1": {
      "model_module": "ipysheet",
      "model_module_version": "~0.4.3",
      "model_name": "CellRangeModel",
      "state": {
       "_view_module": null,
       "_view_module_version": "",
       "column_end": 0,
       "column_start": 0,
       "row_end": 0,
       "row_start": 0,
       "type": "text",
       "value": "C"
      }
     },
     "c4b845d954364ff89a4781f073e5018b": {
      "model_module": "ipysheet",
      "model_module_version": "~0.4.3",
      "model_name": "CellRangeModel",
      "state": {
       "_view_module": null,
       "_view_module_version": "",
       "column_end": 2,
       "column_start": 2,
       "numeric_format": "0.00",
       "row_end": 4,
       "row_start": 4,
       "type": "numeric",
       "value": 5
      }
     },
     "c552f4647045431f820e54b7a8d8d7a8": {
      "model_module": "ipysheet",
      "model_module_version": "~0.4.3",
      "model_name": "CellRangeModel",
      "state": {
       "_view_module": null,
       "_view_module_version": "",
       "numeric_format": "0.00",
       "row_end": 7,
       "row_start": 7,
       "type": "numeric",
       "value": 0
      }
     },
     "c59470510e3b4dbe9d2408333077d364": {
      "model_module": "ipysheet",
      "model_module_version": "~0.4.3",
      "model_name": "CellRangeModel",
      "state": {
       "_view_module": null,
       "_view_module_version": "",
       "column_end": 2,
       "column_start": 2,
       "numeric_format": "0.00",
       "row_end": 5,
       "row_start": 5,
       "type": "numeric",
       "value": 0
      }
     },
     "c5d926c87abc4b1a99bbec543f7d9655": {
      "model_module": "ipysheet",
      "model_module_version": "~0.4.3",
      "model_name": "CellRangeModel",
      "state": {
       "_view_module": null,
       "_view_module_version": "",
       "numeric_format": "0.00",
       "row_end": 6,
       "row_start": 6,
       "type": "numeric",
       "value": 0
      }
     },
     "ce338738ed5c4d6daea472ff6ed559d7": {
      "model_module": "ipysheet",
      "model_module_version": "~0.4.3",
      "model_name": "CellRangeModel",
      "state": {
       "_view_module": null,
       "_view_module_version": "",
       "column_end": 0,
       "column_start": 0,
       "numeric_format": "0.00",
       "row_end": 2,
       "row_start": 2,
       "type": "numeric",
       "value": 3.5
      }
     },
     "ce7294ce03194793903ccc06cdfcc98b": {
      "model_module": "ipysheet",
      "model_module_version": "~0.4.3",
      "model_name": "CellRangeModel",
      "state": {
       "_view_module": null,
       "_view_module_version": "",
       "column_end": 0,
       "column_start": 0,
       "numeric_format": "0.00",
       "row_end": 5,
       "row_start": 5,
       "type": "numeric",
       "value": 0
      }
     },
     "cedaaec598fa41f38d2efdfc2029fab8": {
      "model_module": "ipysheet",
      "model_module_version": "~0.4.3",
      "model_name": "CellRangeModel",
      "state": {
       "_view_module": null,
       "_view_module_version": "",
       "column_end": 0,
       "column_start": 0,
       "numeric_format": "0.00",
       "row_end": 6,
       "row_start": 6,
       "type": "numeric",
       "value": 0
      }
     },
     "cfeb4bdd13764ab9b3900dd2d1dacee4": {
      "model_module": "ipysheet",
      "model_module_version": "~0.4.3",
      "model_name": "CellRangeModel",
      "state": {
       "_view_module": null,
       "_view_module_version": "",
       "column_end": 2,
       "column_start": 2,
       "numeric_format": "0.00",
       "row_end": 3,
       "row_start": 3,
       "type": "numeric",
       "value": 3.9
      }
     },
     "d2a9c12a59dd433f952f3f951294effb": {
      "model_module": "ipysheet",
      "model_module_version": "~0.4.3",
      "model_name": "CellRangeModel",
      "state": {
       "_view_module": null,
       "_view_module_version": "",
       "column_end": 0,
       "column_start": 0,
       "numeric_format": "0.00",
       "row_end": 4,
       "row_start": 4,
       "type": "numeric",
       "value": 1
      }
     },
     "d43bbfc3e0b946f9a57cdd7242aefbd4": {
      "model_module": "ipysheet",
      "model_module_version": "~0.4.3",
      "model_name": "CellRangeModel",
      "state": {
       "_view_module": null,
       "_view_module_version": "",
       "column_end": 2,
       "column_start": 2,
       "numeric_format": "0.00",
       "row_end": 2,
       "row_start": 2,
       "type": "numeric",
       "value": 3.5
      }
     },
     "d5ab158826d54f0084bc59091baa1cfb": {
      "model_module": "ipysheet",
      "model_module_version": "~0.4.3",
      "model_name": "CellRangeModel",
      "state": {
       "_view_module": null,
       "_view_module_version": "",
       "column_end": 2,
       "column_start": 2,
       "row_end": 0,
       "row_start": 0,
       "type": "text",
       "value": "P"
      }
     },
     "d71c41395eff4e99b68f466549e89923": {
      "model_module": "ipysheet",
      "model_module_version": "~0.4.3",
      "model_name": "CellRangeModel",
      "state": {
       "_view_module": null,
       "_view_module_version": "",
       "column_end": 0,
       "column_start": 0,
       "numeric_format": "0.00",
       "row_end": 5,
       "row_start": 5,
       "type": "numeric",
       "value": 0
      }
     },
     "d9cc3d17a1574ab88236cc9ca502ec71": {
      "model_module": "ipysheet",
      "model_module_version": "~0.4.3",
      "model_name": "CellRangeModel",
      "state": {
       "_view_module": null,
       "_view_module_version": "",
       "column_end": 0,
       "column_start": 0,
       "numeric_format": "0.00",
       "row_end": 7,
       "row_start": 7,
       "type": "numeric",
       "value": 0
      }
     },
     "db6993974c8547cf83c0fbfa9dd9585f": {
      "model_module": "ipysheet",
      "model_module_version": "~0.4.3",
      "model_name": "CellRangeModel",
      "state": {
       "_view_module": null,
       "_view_module_version": "",
       "column_end": 0,
       "column_start": 0,
       "numeric_format": "0.00",
       "row_end": 4,
       "row_start": 4,
       "type": "numeric",
       "value": 1
      }
     },
     "dd8a344d25e84a47a062e413d5491570": {
      "model_module": "ipysheet",
      "model_module_version": "~0.4.3",
      "model_name": "CellRangeModel",
      "state": {
       "_view_module": null,
       "_view_module_version": "",
       "numeric_format": "0.00",
       "row_end": 8,
       "row_start": 8,
       "type": "numeric",
       "value": 0
      }
     },
     "e1135ff3bff54c4e9977d587703fb85d": {
      "model_module": "@jupyter-widgets/base",
      "model_module_version": "1.2.0",
      "model_name": "LayoutModel",
      "state": {
       "height": "auto",
       "width": "auto"
      }
     },
     "e5c22c1b1fcc42e8bddb2be9f2ee9f9a": {
      "model_module": "ipysheet",
      "model_module_version": "~0.4.3",
      "model_name": "CellRangeModel",
      "state": {
       "_view_module": null,
       "_view_module_version": "",
       "column_end": 0,
       "column_start": 0,
       "numeric_format": "0.00",
       "row_end": 6,
       "row_start": 6,
       "type": "numeric",
       "value": 0
      }
     },
     "e6e11f91550c41d996b0f17025e836ac": {
      "model_module": "ipysheet",
      "model_module_version": "~0.4.3",
      "model_name": "CellRangeModel",
      "state": {
       "_view_module": null,
       "_view_module_version": "",
       "numeric_format": "0.00",
       "row_end": 4,
       "row_start": 4,
       "type": "numeric",
       "value": 16
      }
     },
     "e9dab48f877a4a73a8079babb5a64c4d": {
      "model_module": "ipysheet",
      "model_module_version": "~0.4.3",
      "model_name": "CellRangeModel",
      "state": {
       "_view_module": null,
       "_view_module_version": "",
       "numeric_format": "0.00",
       "row_end": 3,
       "row_start": 3,
       "type": "numeric",
       "value": 0
      }
     },
     "eb7fad26ba604f208867845e4b475ebe": {
      "model_module": "ipysheet",
      "model_module_version": "~0.4.3",
      "model_name": "CellRangeModel",
      "state": {
       "_view_module": null,
       "_view_module_version": "",
       "column_end": 2,
       "column_start": 2,
       "numeric_format": "0.00",
       "row_end": 9,
       "row_start": 9,
       "type": "numeric",
       "value": 0
      }
     },
     "eee361b21eab4274898dd27e7d7a897c": {
      "model_module": "ipysheet",
      "model_module_version": "~0.4.3",
      "model_name": "CellRangeModel",
      "state": {
       "_view_module": null,
       "_view_module_version": "",
       "column_end": 0,
       "column_start": 0,
       "numeric_format": "0.00",
       "row_end": 9,
       "row_start": 9,
       "type": "numeric",
       "value": 0
      }
     },
     "f0427c5b9e0848cd9c04c0fdc297bb60": {
      "model_module": "ipysheet",
      "model_module_version": "~0.4.3",
      "model_name": "CellRangeModel",
      "state": {
       "_view_module": null,
       "_view_module_version": "",
       "numeric_format": "0.00",
       "row_end": 9,
       "row_start": 9,
       "type": "numeric",
       "value": 0
      }
     },
     "f16d8b91f71745af94ad2f7eaa200c86": {
      "model_module": "ipysheet",
      "model_module_version": "~0.4.3",
      "model_name": "CellRangeModel",
      "state": {
       "_view_module": null,
       "_view_module_version": "",
       "column_end": 2,
       "column_start": 2,
       "numeric_format": "0.00",
       "row_end": 3,
       "row_start": 3,
       "type": "numeric",
       "value": 3.9
      }
     },
     "fbc298e7fd994fc5b44476e87baed164": {
      "model_module": "ipysheet",
      "model_module_version": "~0.4.3",
      "model_name": "CellRangeModel",
      "state": {
       "_view_module": null,
       "_view_module_version": "",
       "column_end": 2,
       "column_start": 2,
       "numeric_format": "0.00",
       "type": "numeric",
       "value": 1.9
      }
     },
     "fce24baa7de5450097d278f0a024ae28": {
      "model_module": "ipysheet",
      "model_module_version": "~0.4.3",
      "model_name": "CellRangeModel",
      "state": {
       "_view_module": null,
       "_view_module_version": "",
       "column_end": 2,
       "column_start": 2,
       "numeric_format": "0.00",
       "type": "numeric",
       "value": 0
      }
     },
     "fdf6101303d748fe86556a1f7b6be5ef": {
      "model_module": "ipysheet",
      "model_module_version": "~0.4.3",
      "model_name": "CellRangeModel",
      "state": {
       "_view_module": null,
       "_view_module_version": "",
       "column_end": 0,
       "column_start": 0,
       "numeric_format": "0.00",
       "row_end": 8,
       "row_start": 8,
       "type": "numeric",
       "value": 0
      }
     },
     "fe4fadf50859484ca8c4e5b7e4252d84": {
      "model_module": "ipysheet",
      "model_module_version": "~0.4.3",
      "model_name": "CellRangeModel",
      "state": {
       "_view_module": null,
       "_view_module_version": "",
       "column_end": 2,
       "column_start": 2,
       "numeric_format": "0.00",
       "row_end": 3,
       "row_start": 3,
       "type": "numeric",
       "value": 0
      }
     }
    },
    "version_major": 2,
    "version_minor": 0
   }
  }
 },
 "nbformat": 4,
 "nbformat_minor": 2
}
